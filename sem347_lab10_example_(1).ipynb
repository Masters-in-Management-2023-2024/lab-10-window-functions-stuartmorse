{
  "cells": [
    {
      "cell_type": "markdown",
      "metadata": {
        "id": "sI7LLGBl-EDD"
      },
      "source": [
        "# OPAN5505 Lab 3 Assignment\n",
        "\n",
        "## Background\n",
        "\n",
        "You've been engaged by the Federal Aviation Administration to perform an analysis on \"strike\" data. A \"strike\" refers to when an aircraft and an object within the air (typically wildlife) collide."
      ]
    },
    {
      "cell_type": "markdown",
      "metadata": {
        "id": "3CKsXpos-EDF"
      },
      "source": [
        "## Prepare your environment\n",
        "\n",
        "You will need the `polars` package for this assignment. We'll also use `datetime` for date handling."
      ]
    },
    {
      "cell_type": "code",
      "execution_count": null,
      "metadata": {
        "id": "56Q5gKeB-EDG"
      },
      "outputs": [],
      "source": [
        "# Import required libraries\n",
        "import polars as pl\n",
        "from datetime import datetime, date"
      ]
    },
    {
      "cell_type": "markdown",
      "metadata": {
        "id": "ZGLZLrL_-EDH"
      },
      "source": [
        "## Load your dataset\n",
        "\n",
        "Read the `faa_strikes.txt` dataset into Polars. Name the resulting DataFrame `strikes`."
      ]
    },
    {
      "cell_type": "code",
      "execution_count": null,
      "metadata": {
        "colab": {
          "base_uri": "https://localhost:8080/",
          "height": 966
        },
        "id": "qUhuyHFC-EDH",
        "outputId": "43775c3d-5ea8-4a44-feb7-2b5caff7476f"
      },
      "outputs": [
        {
          "output_type": "execute_result",
          "data": {
            "text/plain": [
              "shape: (28_298, 25)\n",
              "┌───────────┬───────────┬───────────┬───────────┬───┬───────────┬───────────┬───────────┬──────────┐\n",
              "│ Airport:  ┆ Airport:  ┆ Origin    ┆ Origin    ┆ … ┆ Wildlife: ┆ Wildlife: ┆ Number of ┆ Record   │\n",
              "│ Code      ┆ Name      ┆ State     ┆ State     ┆   ┆ Species   ┆ Species   ┆ Strikes   ┆ ID       │\n",
              "│ ---       ┆ ---       ┆ ---       ┆ Code      ┆   ┆ ---       ┆ ID        ┆ ---       ┆ ---      │\n",
              "│ str       ┆ str       ┆ str       ┆ ---       ┆   ┆ str       ┆ ---       ┆ i64       ┆ i64      │\n",
              "│           ┆           ┆           ┆ str       ┆   ┆           ┆ str       ┆           ┆          │\n",
              "╞═══════════╪═══════════╪═══════════╪═══════════╪═══╪═══════════╪═══════════╪═══════════╪══════════╡\n",
              "│ KAAF      ┆ APALACHIC ┆ Florida   ┆ FL        ┆ … ┆ Domestic  ┆ 1F12      ┆ 1         ┆ 17459    │\n",
              "│           ┆ OLA       ┆           ┆           ┆   ┆ dog       ┆           ┆           ┆          │\n",
              "│           ┆ REGIONAL  ┆           ┆           ┆   ┆           ┆           ┆           ┆          │\n",
              "│           ┆ ARPT      ┆           ┆           ┆   ┆           ┆           ┆           ┆          │\n",
              "│ KAAF      ┆ APALACHIC ┆ Florida   ┆ FL        ┆ … ┆ Herons,   ┆ I1        ┆ 1         ┆ 17114    │\n",
              "│           ┆ OLA       ┆           ┆           ┆   ┆ egrets,   ┆           ┆           ┆          │\n",
              "│           ┆ REGIONAL  ┆           ┆           ┆   ┆ bitterns  ┆           ┆           ┆          │\n",
              "│           ┆ ARPT      ┆           ┆           ┆   ┆           ┆           ┆           ┆          │\n",
              "│ KABE      ┆ LEHIGH    ┆ Pennsylva ┆ PA        ┆ … ┆ American  ┆ K5114     ┆ 1         ┆ 259361   │\n",
              "│           ┆ VALLEY    ┆ nia       ┆           ┆   ┆ kestrel   ┆           ┆           ┆          │\n",
              "│           ┆ INTL      ┆           ┆           ┆   ┆           ┆           ┆           ┆          │\n",
              "│ KABE      ┆ LEHIGH    ┆ Pennsylva ┆ PA        ┆ … ┆ Mourning  ┆ O2205     ┆ 1         ┆ 345167   │\n",
              "│           ┆ VALLEY    ┆ nia       ┆           ┆   ┆ dove      ┆           ┆           ┆          │\n",
              "│           ┆ INTL      ┆           ┆           ┆   ┆           ┆           ┆           ┆          │\n",
              "│ KABE      ┆ LEHIGH    ┆ Pennsylva ┆ PA        ┆ … ┆ Red-taile ┆ K3302     ┆ 1         ┆ 262782   │\n",
              "│           ┆ VALLEY    ┆ nia       ┆           ┆   ┆ d hawk    ┆           ┆           ┆          │\n",
              "│           ┆ INTL      ┆           ┆           ┆   ┆           ┆           ┆           ┆          │\n",
              "│ …         ┆ …         ┆ …         ┆ …         ┆ … ┆ …         ┆ …         ┆ …         ┆ …        │\n",
              "│ KYNG      ┆ YOUNGSTOW ┆ Ohio      ┆ OH        ┆ … ┆ Rusty     ┆ ZT106     ┆ 1         ┆ 15818    │\n",
              "│           ┆ N-WARREN  ┆           ┆           ┆   ┆ blackbird ┆           ┆           ┆          │\n",
              "│           ┆ RGNL ARPT ┆           ┆           ┆   ┆           ┆           ┆           ┆          │\n",
              "│ KYNG      ┆ YOUNGSTOW ┆ Ohio      ┆ OH        ┆ … ┆ Ruddy     ┆ J2140     ┆ 1         ┆ 16759    │\n",
              "│           ┆ N-WARREN  ┆           ┆           ┆   ┆ duck      ┆           ┆           ┆          │\n",
              "│           ┆ RGNL ARPT ┆           ┆           ┆   ┆           ┆           ┆           ┆          │\n",
              "│ KYNG      ┆ YOUNGSTOW ┆ Ohio      ┆ OH        ┆ … ┆ White-cro ┆ ZX309     ┆ 1         ┆ 17575    │\n",
              "│           ┆ N-WARREN  ┆           ┆           ┆   ┆ wned      ┆           ┆           ┆          │\n",
              "│           ┆ RGNL ARPT ┆           ┆           ┆   ┆ sparrow   ┆           ┆           ┆          │\n",
              "│ KYNG      ┆ YOUNGSTOW ┆ Ohio      ┆ OH        ┆ … ┆ Cedar     ┆ ZD102     ┆ 1         ┆ 17262    │\n",
              "│           ┆ N-WARREN  ┆           ┆           ┆   ┆ waxwing   ┆           ┆           ┆          │\n",
              "│           ┆ RGNL ARPT ┆           ┆           ┆   ┆           ┆           ┆           ┆          │\n",
              "│ KZPH      ┆ ZEPHYRHIL ┆ Florida   ┆ FL        ┆ … ┆ New World ┆ K1        ┆ 1         ┆ 203484   │\n",
              "│           ┆ LS        ┆           ┆           ┆   ┆ Vultures  ┆           ┆           ┆          │\n",
              "│           ┆ MUNICIPAL ┆           ┆           ┆   ┆           ┆           ┆           ┆          │\n",
              "│           ┆ ARPT      ┆           ┆           ┆   ┆           ┆           ┆           ┆          │\n",
              "└───────────┴───────────┴───────────┴───────────┴───┴───────────┴───────────┴───────────┴──────────┘"
            ],
            "text/html": [
              "<div><style>\n",
              ".dataframe > thead > tr,\n",
              ".dataframe > tbody > tr {\n",
              "  text-align: right;\n",
              "  white-space: pre-wrap;\n",
              "}\n",
              "</style>\n",
              "<small>shape: (28_298, 25)</small><table border=\"1\" class=\"dataframe\"><thead><tr><th>Airport: Code</th><th>Airport: Name</th><th>Origin State</th><th>Origin State Code</th><th>Country</th><th>Aircraft: Type</th><th>Aircraft: Number of engines</th><th>Collision Date and Time</th><th>When: Time of day</th><th>When: Phase of flight</th><th>Effect: Amount of damage (detailed)</th><th>Effect: Impact to flight</th><th>Effect: Indicated Damage</th><th>Cost: Aircraft time out of service (hours)</th><th>Cost: Total $</th><th>Days</th><th>Feet above ground</th><th>Miles from airport</th><th>Wildlife: Animal Category</th><th>Wildlife: Species Order</th><th>Wildlife: Species Group</th><th>Wildlife: Species</th><th>Wildlife: Species ID</th><th>Number of Strikes</th><th>Record ID</th></tr><tr><td>str</td><td>str</td><td>str</td><td>str</td><td>str</td><td>str</td><td>str</td><td>datetime[μs, UTC]</td><td>str</td><td>str</td><td>str</td><td>str</td><td>str</td><td>str</td><td>i64</td><td>str</td><td>str</td><td>str</td><td>str</td><td>str</td><td>str</td><td>str</td><td>str</td><td>i64</td><td>i64</td></tr></thead><tbody><tr><td>&quot;KAAF&quot;</td><td>&quot;APALACHICOLA REGIONAL ARPT&quot;</td><td>&quot;Florida&quot;</td><td>&quot;FL&quot;</td><td>&quot;United States&quot;</td><td>&quot;NA&quot;</td><td>&quot;NA&quot;</td><td>2012-09-20 23:30:00 UTC</td><td>&quot;NA&quot;</td><td>&quot;Take-off run&quot;</td><td>&quot;None&quot;</td><td>&quot;None&quot;</td><td>&quot;No damage&quot;</td><td>&quot;NA&quot;</td><td>0</td><td>&quot;NA&quot;</td><td>&quot;0&quot;</td><td>&quot;NA&quot;</td><td>&quot;Terrestrial Mammals&quot;</td><td>&quot;Canids&quot;</td><td>&quot;Wolves, Dogs, Foxes, Coyote&quot;</td><td>&quot;Domestic dog&quot;</td><td>&quot;1F12&quot;</td><td>1</td><td>17459</td></tr><tr><td>&quot;KAAF&quot;</td><td>&quot;APALACHICOLA REGIONAL ARPT&quot;</td><td>&quot;Florida&quot;</td><td>&quot;FL&quot;</td><td>&quot;United States&quot;</td><td>&quot;Airplane&quot;</td><td>&quot;1&quot;</td><td>2013-04-23 21:09:00 UTC</td><td>&quot;NA&quot;</td><td>&quot;Take-off run&quot;</td><td>&quot;None&quot;</td><td>&quot;None&quot;</td><td>&quot;No damage&quot;</td><td>&quot;NA&quot;</td><td>0</td><td>&quot;NA&quot;</td><td>&quot;NA&quot;</td><td>&quot;NA&quot;</td><td>&quot;Birds&quot;</td><td>&quot;Pelicans, Herons, Egrets, Bitt…</td><td>&quot;Herons, Egrets, Bitterns&quot;</td><td>&quot;Herons, egrets, bitterns&quot;</td><td>&quot;I1&quot;</td><td>1</td><td>17114</td></tr><tr><td>&quot;KABE&quot;</td><td>&quot;LEHIGH VALLEY INTL&quot;</td><td>&quot;Pennsylvania&quot;</td><td>&quot;PA&quot;</td><td>&quot;United States&quot;</td><td>&quot;Airplane&quot;</td><td>&quot;2&quot;</td><td>2009-04-23 13:22:00 UTC</td><td>&quot;Day&quot;</td><td>&quot;Take-off run&quot;</td><td>&quot;Medium&quot;</td><td>&quot;Aborted Take-off&quot;</td><td>&quot;Caused damage&quot;</td><td>&quot;720&quot;</td><td>171132</td><td>&quot;30&quot;</td><td>&quot;0&quot;</td><td>&quot;0&quot;</td><td>&quot;Birds&quot;</td><td>&quot;Caracaras, Falcons&quot;</td><td>&quot;Caracaras, Falcons&quot;</td><td>&quot;American kestrel&quot;</td><td>&quot;K5114&quot;</td><td>1</td><td>259361</td></tr><tr><td>&quot;KABE&quot;</td><td>&quot;LEHIGH VALLEY INTL&quot;</td><td>&quot;Pennsylvania&quot;</td><td>&quot;PA&quot;</td><td>&quot;United States&quot;</td><td>&quot;Airplane&quot;</td><td>&quot;2&quot;</td><td>2014-04-14 02:00:00 UTC</td><td>&quot;Night&quot;</td><td>&quot;Approach&quot;</td><td>&quot;None&quot;</td><td>&quot;None&quot;</td><td>&quot;No damage&quot;</td><td>&quot;15&quot;</td><td>600</td><td>&quot;1&quot;</td><td>&quot;NA&quot;</td><td>&quot;NA&quot;</td><td>&quot;Birds&quot;</td><td>&quot;Pigeons and Doves&quot;</td><td>&quot;Doves&quot;</td><td>&quot;Mourning dove&quot;</td><td>&quot;O2205&quot;</td><td>1</td><td>345167</td></tr><tr><td>&quot;KABE&quot;</td><td>&quot;LEHIGH VALLEY INTL&quot;</td><td>&quot;Pennsylvania&quot;</td><td>&quot;PA&quot;</td><td>&quot;United States&quot;</td><td>&quot;Airplane&quot;</td><td>&quot;2&quot;</td><td>2009-03-31 22:15:00 UTC</td><td>&quot;Day&quot;</td><td>&quot;Approach&quot;</td><td>&quot;Medium&quot;</td><td>&quot;None&quot;</td><td>&quot;Caused damage&quot;</td><td>&quot;12&quot;</td><td>188245</td><td>&quot;1&quot;</td><td>&quot;NA&quot;</td><td>&quot;0&quot;</td><td>&quot;Birds&quot;</td><td>&quot;Hawks, Kites, Eagles, Ospreys,…</td><td>&quot;Kites, Hawks, Eagles&quot;</td><td>&quot;Red-tailed hawk&quot;</td><td>&quot;K3302&quot;</td><td>1</td><td>262782</td></tr><tr><td>&hellip;</td><td>&hellip;</td><td>&hellip;</td><td>&hellip;</td><td>&hellip;</td><td>&hellip;</td><td>&hellip;</td><td>&hellip;</td><td>&hellip;</td><td>&hellip;</td><td>&hellip;</td><td>&hellip;</td><td>&hellip;</td><td>&hellip;</td><td>&hellip;</td><td>&hellip;</td><td>&hellip;</td><td>&hellip;</td><td>&hellip;</td><td>&hellip;</td><td>&hellip;</td><td>&hellip;</td><td>&hellip;</td><td>&hellip;</td><td>&hellip;</td></tr><tr><td>&quot;KYNG&quot;</td><td>&quot;YOUNGSTOWN-WARREN RGNL ARPT&quot;</td><td>&quot;Ohio&quot;</td><td>&quot;OH&quot;</td><td>&quot;United States&quot;</td><td>&quot;Airplane&quot;</td><td>&quot;4&quot;</td><td>2011-11-16 23:20:00 UTC</td><td>&quot;NA&quot;</td><td>&quot;Approach&quot;</td><td>&quot;None&quot;</td><td>&quot;None&quot;</td><td>&quot;No damage&quot;</td><td>&quot;NA&quot;</td><td>0</td><td>&quot;NA&quot;</td><td>&quot;100&quot;</td><td>&quot;NA&quot;</td><td>&quot;Birds&quot;</td><td>&quot;Perching Birds&quot;</td><td>&quot;Blackbirds&quot;</td><td>&quot;Rusty blackbird&quot;</td><td>&quot;ZT106&quot;</td><td>1</td><td>15818</td></tr><tr><td>&quot;KYNG&quot;</td><td>&quot;YOUNGSTOWN-WARREN RGNL ARPT&quot;</td><td>&quot;Ohio&quot;</td><td>&quot;OH&quot;</td><td>&quot;United States&quot;</td><td>&quot;Airplane&quot;</td><td>&quot;4&quot;</td><td>2012-11-02 01:20:00 UTC</td><td>&quot;NA&quot;</td><td>&quot;Approach&quot;</td><td>&quot;None&quot;</td><td>&quot;None&quot;</td><td>&quot;No damage&quot;</td><td>&quot;NA&quot;</td><td>0</td><td>&quot;NA&quot;</td><td>&quot;1900&quot;</td><td>&quot;NA&quot;</td><td>&quot;Birds&quot;</td><td>&quot;Ducks, Geese, Swans, Waterfowl&quot;</td><td>&quot;Ducks&quot;</td><td>&quot;Ruddy duck&quot;</td><td>&quot;J2140&quot;</td><td>1</td><td>16759</td></tr><tr><td>&quot;KYNG&quot;</td><td>&quot;YOUNGSTOWN-WARREN RGNL ARPT&quot;</td><td>&quot;Ohio&quot;</td><td>&quot;OH&quot;</td><td>&quot;United States&quot;</td><td>&quot;Airplane&quot;</td><td>&quot;4&quot;</td><td>2014-05-08 02:00:00 UTC</td><td>&quot;NA&quot;</td><td>&quot;Take-off run&quot;</td><td>&quot;None&quot;</td><td>&quot;None&quot;</td><td>&quot;No damage&quot;</td><td>&quot;NA&quot;</td><td>0</td><td>&quot;NA&quot;</td><td>&quot;NA&quot;</td><td>&quot;NA&quot;</td><td>&quot;Birds&quot;</td><td>&quot;Perching Birds&quot;</td><td>&quot;Sparrows&quot;</td><td>&quot;White-crowned sparrow&quot;</td><td>&quot;ZX309&quot;</td><td>1</td><td>17575</td></tr><tr><td>&quot;KYNG&quot;</td><td>&quot;YOUNGSTOWN-WARREN RGNL ARPT&quot;</td><td>&quot;Ohio&quot;</td><td>&quot;OH&quot;</td><td>&quot;United States&quot;</td><td>&quot;Airplane&quot;</td><td>&quot;4&quot;</td><td>2013-10-28 22:30:00 UTC</td><td>&quot;NA&quot;</td><td>&quot;Approach&quot;</td><td>&quot;None&quot;</td><td>&quot;None&quot;</td><td>&quot;No damage&quot;</td><td>&quot;NA&quot;</td><td>0</td><td>&quot;NA&quot;</td><td>&quot;NA&quot;</td><td>&quot;NA&quot;</td><td>&quot;Birds&quot;</td><td>&quot;Perching Birds&quot;</td><td>&quot;Waxwings&quot;</td><td>&quot;Cedar waxwing&quot;</td><td>&quot;ZD102&quot;</td><td>1</td><td>17262</td></tr><tr><td>&quot;KZPH&quot;</td><td>&quot;ZEPHYRHILLS MUNICIPAL ARPT&quot;</td><td>&quot;Florida&quot;</td><td>&quot;FL&quot;</td><td>&quot;United States&quot;</td><td>&quot;Airplane&quot;</td><td>&quot;3&quot;</td><td>2000-11-05 19:00:00 UTC</td><td>&quot;Day&quot;</td><td>&quot;Descent&quot;</td><td>&quot;Minor&quot;</td><td>&quot;None&quot;</td><td>&quot;Caused damage&quot;</td><td>&quot;NA&quot;</td><td>0</td><td>&quot;NA&quot;</td><td>&quot;4000&quot;</td><td>&quot;NA&quot;</td><td>&quot;Birds&quot;</td><td>&quot;Hawks, Kites, Eagles, Ospreys,…</td><td>&quot;Vultures&quot;</td><td>&quot;New World Vultures&quot;</td><td>&quot;K1&quot;</td><td>1</td><td>203484</td></tr></tbody></table></div>"
            ]
          },
          "metadata": {},
          "execution_count": 5
        }
      ],
      "source": [
        "# Read the faa_strikes.txt data\n",
        "import polars as pl\n",
        "from datetime import datetime, date\n",
        "\n",
        "strikes = pl.read_csv( \"https://raw.githubusercontent.com/philhetzel/opan5510-class10/refs/heads/main/data/faa_strikes.txt\", separator=\"\\t\")\n",
        "strikes = strikes.with_columns(pl.col(\"Collision Date and Time\").str.strptime(pl.Datetime))\n",
        "strikes"
      ]
    },
    {
      "cell_type": "markdown",
      "metadata": {
        "id": "JDfa58sR-EDH"
      },
      "source": [
        "## Question 1: Running total of strikes by day through 2013\n",
        "\n",
        "You are interested in seeing the running total of strikes over time (`Collision Date and Time`) on a daily basis. Using the `strikes` dataframe, create a new column that removes the time information but keeps the date information from the `Collision Date and Time` column (call this new field `date`). Next, aggregate the `Number of Strikes` by day (call this new field `daily_strikes`). Sort the data in ascending order by `date`. Then, create the running total of `daily_strikes` (name the new field `strikes_cumulative`) and filter to only the records **up to and including** the `date` of 2013-12-31. Name the resulting data frame `running_total_strikes`.\n",
        "\n",
        "*Please place a Python code block and code below. The output should be a DataFrame. You must use a window function to receive credit on this question.*"
      ]
    },
    {
      "cell_type": "code",
      "execution_count": null,
      "metadata": {
        "colab": {
          "base_uri": "https://localhost:8080/",
          "height": 443
        },
        "id": "Lplg1mT9-EDI",
        "outputId": "de703398-1ae5-4375-ef0c-bf8d72411bca"
      },
      "outputs": [
        {
          "output_type": "execute_result",
          "data": {
            "text/plain": [
              "shape: (4_776, 3)\n",
              "┌────────────┬─────────────┬───────────────────────┐\n",
              "│ Date       ┆ tot_strikes ┆ running_total_strikes │\n",
              "│ ---        ┆ ---         ┆ ---                   │\n",
              "│ date       ┆ i64         ┆ i64                   │\n",
              "╞════════════╪═════════════╪═══════════════════════╡\n",
              "│ 2000-01-02 ┆ 1           ┆ 1                     │\n",
              "│ 2000-01-03 ┆ 2           ┆ 3                     │\n",
              "│ 2000-01-05 ┆ 3           ┆ 6                     │\n",
              "│ 2000-01-06 ┆ 1           ┆ 7                     │\n",
              "│ 2000-01-08 ┆ 4           ┆ 11                    │\n",
              "│ …          ┆ …           ┆ …                     │\n",
              "│ 2013-12-27 ┆ 6           ┆ 24096                 │\n",
              "│ 2013-12-28 ┆ 1           ┆ 24097                 │\n",
              "│ 2013-12-29 ┆ 2           ┆ 24099                 │\n",
              "│ 2013-12-30 ┆ 4           ┆ 24103                 │\n",
              "│ 2013-12-31 ┆ 6           ┆ 24109                 │\n",
              "└────────────┴─────────────┴───────────────────────┘"
            ],
            "text/html": [
              "<div><style>\n",
              ".dataframe > thead > tr,\n",
              ".dataframe > tbody > tr {\n",
              "  text-align: right;\n",
              "  white-space: pre-wrap;\n",
              "}\n",
              "</style>\n",
              "<small>shape: (4_776, 3)</small><table border=\"1\" class=\"dataframe\"><thead><tr><th>Date</th><th>tot_strikes</th><th>running_total_strikes</th></tr><tr><td>date</td><td>i64</td><td>i64</td></tr></thead><tbody><tr><td>2000-01-02</td><td>1</td><td>1</td></tr><tr><td>2000-01-03</td><td>2</td><td>3</td></tr><tr><td>2000-01-05</td><td>3</td><td>6</td></tr><tr><td>2000-01-06</td><td>1</td><td>7</td></tr><tr><td>2000-01-08</td><td>4</td><td>11</td></tr><tr><td>&hellip;</td><td>&hellip;</td><td>&hellip;</td></tr><tr><td>2013-12-27</td><td>6</td><td>24096</td></tr><tr><td>2013-12-28</td><td>1</td><td>24097</td></tr><tr><td>2013-12-29</td><td>2</td><td>24099</td></tr><tr><td>2013-12-30</td><td>4</td><td>24103</td></tr><tr><td>2013-12-31</td><td>6</td><td>24109</td></tr></tbody></table></div>"
            ]
          },
          "metadata": {},
          "execution_count": 12
        }
      ],
      "source": [
        "# Your code here\n",
        "strikes = strikes.with_columns(pl.col('Collision Date and Time').dt.date().alias('Date'))\n",
        "\n",
        "running_total_strikes = (\n",
        "    strikes\n",
        "    .group_by('Date')\n",
        "    .agg(pl.col('Number of Strikes').sum().alias('tot_strikes'))\n",
        "    .sort('Date')\n",
        "    .with_columns(\n",
        "        pl.col('tot_strikes').cum_sum().alias('running_total_strikes')\n",
        "    )\n",
        "    .filter(pl.col('Date') <= datetime(2013, 12, 31))\n",
        "    )\n",
        "\n",
        "running_total_strikes"
      ]
    },
    {
      "cell_type": "markdown",
      "metadata": {
        "id": "_g8e71iF-EDI"
      },
      "source": [
        "## Question 2: States with the third highest financial cost\n",
        "\n",
        "The FAA is interested in the financial cost of strikes for each `Origin State`. Using the `strikes` dataframe: first, sum `Cost: Total $` by `Origin State` (name the resulting column `damage`) then `rank` these states in order of which state had the most financial `damage` (name the new column with rank information, `ranking`). Next, filter to show the row with the third highest `ranking`. Use a window function to answer this question. Name the resulting dataframe `damage_state`.\n",
        "\n",
        "*Please place a Python code block and code below. The output should be a DataFrame. You must use a window function to receive credit on this question.*"
      ]
    },
    {
      "cell_type": "code",
      "execution_count": null,
      "metadata": {
        "colab": {
          "base_uri": "https://localhost:8080/",
          "height": 129
        },
        "id": "IhOul6mC-EDI",
        "outputId": "84d99af1-736d-45e1-b630-642f87a63558"
      },
      "outputs": [
        {
          "output_type": "execute_result",
          "data": {
            "text/plain": [
              "shape: (1, 3)\n",
              "┌──────────────┬──────────┬─────────┐\n",
              "│ Origin State ┆ damage   ┆ ranking │\n",
              "│ ---          ┆ ---      ┆ ---     │\n",
              "│ str          ┆ i64      ┆ u32     │\n",
              "╞══════════════╪══════════╪═════════╡\n",
              "│ California   ┆ 29671432 ┆ 3       │\n",
              "└──────────────┴──────────┴─────────┘"
            ],
            "text/html": [
              "<div><style>\n",
              ".dataframe > thead > tr,\n",
              ".dataframe > tbody > tr {\n",
              "  text-align: right;\n",
              "  white-space: pre-wrap;\n",
              "}\n",
              "</style>\n",
              "<small>shape: (1, 3)</small><table border=\"1\" class=\"dataframe\"><thead><tr><th>Origin State</th><th>damage</th><th>ranking</th></tr><tr><td>str</td><td>i64</td><td>u32</td></tr></thead><tbody><tr><td>&quot;California&quot;</td><td>29671432</td><td>3</td></tr></tbody></table></div>"
            ]
          },
          "metadata": {},
          "execution_count": 13
        }
      ],
      "source": [
        "# Your code here\n",
        "damage_state = (\n",
        "    strikes\n",
        "    .group_by('Origin State')\n",
        "    .agg(\n",
        "        pl.col('Cost: Total $').sum().alias('damage')\n",
        "    )\n",
        "    .with_columns(\n",
        "        pl.col('damage')\n",
        "        .rank(method='max', descending=True)\n",
        "        .alias('ranking')\n",
        "    )\n",
        "    .filter(pl.col('ranking') == 3)\n",
        "    .sort('ranking')\n",
        "    )\n",
        "\n",
        "damage_state"
      ]
    },
    {
      "cell_type": "markdown",
      "metadata": {
        "id": "EUIIx58a-EDJ"
      },
      "source": [
        "## Question 3: What are the second costliest Species Groups for each Aircraft Type?\n",
        "\n",
        "The FAA wants to know if some species groups are more dangerous to particular types of aircraft. Using the `strikes` dataframe: first, sum financial damage (`Cost: Total $`) information by `Aircraft: Type` and `Wildlife: Species Group` (name the new field `damage`). Rank the rows within each `Aircraft: Type` based on the greatest amount of `damage`; when performing the ranking function, name the new column `ranking`. Return the rows that represent the `Wildlife: Species Group` values that caused the **second most** financial `damage` to each `Aircraft: Type`. Name the resulting dataframe `type_species`.\n",
        "\n",
        "*Please place a Python code block and code below. The output should be a DataFrame. You must use a ranking function to receive credit on this question.*"
      ]
    },
    {
      "cell_type": "code",
      "execution_count": null,
      "metadata": {
        "colab": {
          "base_uri": "https://localhost:8080/",
          "height": 192
        },
        "id": "Bhv7sYBs-EDJ",
        "outputId": "502707b9-71d2-431d-e65f-36cd571a5d64"
      },
      "outputs": [
        {
          "output_type": "execute_result",
          "data": {
            "text/plain": [
              "shape: (3, 4)\n",
              "┌────────────────┬───────────────────┬──────────┬─────────┐\n",
              "│ Aircraft: Type ┆ Wildlife: Species ┆ damage   ┆ ranking │\n",
              "│ ---            ┆ ---               ┆ ---      ┆ ---     │\n",
              "│ str            ┆ str               ┆ i64      ┆ u32     │\n",
              "╞════════════════╪═══════════════════╪══════════╪═════════╡\n",
              "│ Airplane       ┆ White-tailed deer ┆ 22668239 ┆ 2       │\n",
              "│ Helicopter     ┆ Black vulture     ┆ 116676   ┆ 2       │\n",
              "│ NA             ┆ Black vulture     ┆ 56227    ┆ 2       │\n",
              "└────────────────┴───────────────────┴──────────┴─────────┘"
            ],
            "text/html": [
              "<div><style>\n",
              ".dataframe > thead > tr,\n",
              ".dataframe > tbody > tr {\n",
              "  text-align: right;\n",
              "  white-space: pre-wrap;\n",
              "}\n",
              "</style>\n",
              "<small>shape: (3, 4)</small><table border=\"1\" class=\"dataframe\"><thead><tr><th>Aircraft: Type</th><th>Wildlife: Species</th><th>damage</th><th>ranking</th></tr><tr><td>str</td><td>str</td><td>i64</td><td>u32</td></tr></thead><tbody><tr><td>&quot;Airplane&quot;</td><td>&quot;White-tailed deer&quot;</td><td>22668239</td><td>2</td></tr><tr><td>&quot;Helicopter&quot;</td><td>&quot;Black vulture&quot;</td><td>116676</td><td>2</td></tr><tr><td>&quot;NA&quot;</td><td>&quot;Black vulture&quot;</td><td>56227</td><td>2</td></tr></tbody></table></div>"
            ]
          },
          "metadata": {},
          "execution_count": 14
        }
      ],
      "source": [
        "# Your code here\n",
        "type_species = (\n",
        "    strikes\n",
        "    .group_by(['Aircraft: Type', 'Wildlife: Species'])\n",
        "    .agg(\n",
        "        pl.col('Cost: Total $').sum().alias('damage')\n",
        "    )\n",
        "    .with_columns(\n",
        "        pl.col('damage')\n",
        "        .rank(method='max', descending=True)\n",
        "        .over('Aircraft: Type')\n",
        "        .alias('ranking')\n",
        "    )\n",
        "    .filter(pl.col('ranking') == 2)\n",
        "    .sort(['Aircraft: Type', 'ranking'])\n",
        ")\n",
        "\n",
        "type_species"
      ]
    },
    {
      "cell_type": "markdown",
      "metadata": {
        "id": "PWsQIRb0-EDJ"
      },
      "source": [
        "## Question 4: Which days had the greatest positive jump in strikes?\n",
        "\n",
        "The FAA wants to investigate which days had the largest increase in strikes from the previous day. Using the `strikes` dataframe: sum the `Number of Strikes` measure by day (note: not by day and time). You can use a similar technique from Question 1 to create a new column from `Collision Date and Time` without time information and with date information (name this column `date`). Next, compute the previous day's strikes using a window function (name the new column `previous_day`), and calculate the difference of strikes between the current day and the previous day (name the new column `delta_strikes`). Sort the resulting data by `delta_strikes` in descending order to find which days had the highest increase of strikes from the previous day. Name the resulting dataframe `greatest_strike_increase`.\n",
        "\n",
        "**Hint:** This code is more involved that other exercises, so I will explicitly name the steps to answer the question.\n",
        "\n",
        "1. Start with the `strikes` data frame\n",
        "2. Create a new column called `date` which removes the time information in the `Collision Date and Time` column\n",
        "3. Sum the `Number of Strikes` by `date`, and name the new column `daily_strikes`\n",
        "4. Sort by the `date` column in ascending order\n",
        "5. Create a new column called `previous_day` to calculate what the `daily_strikes` were in the previous day\n",
        "6. Create a new column called `delta_strikes` which subtracts `previous_day` from `daily_strikes`\n",
        "7. Sort in descending order by `delta_strikes`\n",
        "\n",
        "*Please place a Python code block and code below. The output should be a DataFrame. You must use a window function to receive credit on this question.*"
      ]
    },
    {
      "cell_type": "code",
      "execution_count": null,
      "metadata": {
        "colab": {
          "base_uri": "https://localhost:8080/",
          "height": 443
        },
        "id": "mrRBAgUP-EDJ",
        "outputId": "b1071b95-f9d7-4a18-aaf6-4210175007e5"
      },
      "outputs": [
        {
          "output_type": "execute_result",
          "data": {
            "text/plain": [
              "shape: (2_222, 3)\n",
              "┌────────────┬───────────────┬───────────────┐\n",
              "│ Date       ┆ total_strikes ┆ delta_strikes │\n",
              "│ ---        ┆ ---           ┆ ---           │\n",
              "│ date       ┆ i64           ┆ i64           │\n",
              "╞════════════╪═══════════════╪═══════════════╡\n",
              "│ 2010-10-29 ┆ 25            ┆ 18            │\n",
              "│ 2014-08-25 ┆ 25            ┆ 17            │\n",
              "│ 2012-06-28 ┆ 21            ┆ 16            │\n",
              "│ 2009-07-07 ┆ 21            ┆ 14            │\n",
              "│ 2013-11-04 ┆ 22            ┆ 14            │\n",
              "│ …          ┆ …             ┆ …             │\n",
              "│ 2015-05-09 ┆ 11            ┆ 1             │\n",
              "│ 2015-05-18 ┆ 8             ┆ 1             │\n",
              "│ 2015-05-21 ┆ 10            ┆ 1             │\n",
              "│ 2015-05-24 ┆ 10            ┆ 1             │\n",
              "│ 2015-05-31 ┆ 6             ┆ 1             │\n",
              "└────────────┴───────────────┴───────────────┘"
            ],
            "text/html": [
              "<div><style>\n",
              ".dataframe > thead > tr,\n",
              ".dataframe > tbody > tr {\n",
              "  text-align: right;\n",
              "  white-space: pre-wrap;\n",
              "}\n",
              "</style>\n",
              "<small>shape: (2_222, 3)</small><table border=\"1\" class=\"dataframe\"><thead><tr><th>Date</th><th>total_strikes</th><th>delta_strikes</th></tr><tr><td>date</td><td>i64</td><td>i64</td></tr></thead><tbody><tr><td>2010-10-29</td><td>25</td><td>18</td></tr><tr><td>2014-08-25</td><td>25</td><td>17</td></tr><tr><td>2012-06-28</td><td>21</td><td>16</td></tr><tr><td>2009-07-07</td><td>21</td><td>14</td></tr><tr><td>2013-11-04</td><td>22</td><td>14</td></tr><tr><td>&hellip;</td><td>&hellip;</td><td>&hellip;</td></tr><tr><td>2015-05-09</td><td>11</td><td>1</td></tr><tr><td>2015-05-18</td><td>8</td><td>1</td></tr><tr><td>2015-05-21</td><td>10</td><td>1</td></tr><tr><td>2015-05-24</td><td>10</td><td>1</td></tr><tr><td>2015-05-31</td><td>6</td><td>1</td></tr></tbody></table></div>"
            ]
          },
          "metadata": {},
          "execution_count": 15
        }
      ],
      "source": [
        "# Your code here\n",
        "daily_strikes = strikes.group_by('Date').agg(pl.col('Number of Strikes').sum().alias('total_strikes')).sort('Date')\n",
        "\n",
        "daily_strikes_diff = daily_strikes.with_columns(\n",
        "    (pl.col('total_strikes') - pl.col('total_strikes').shift(1)).alias('delta_strikes')\n",
        ")\n",
        "\n",
        "greatest_strike_increase = daily_strikes_diff.filter(pl.col('delta_strikes') > 0).sort('delta_strikes', descending=True)\n",
        "\n",
        "greatest_strike_increase"
      ]
    },
    {
      "cell_type": "markdown",
      "metadata": {
        "id": "LgVNn5hi-EDK"
      },
      "source": [
        "## Question 5: Which single day had the greatest increase in strikes for each `Aircraft: Type`?\n",
        "\n",
        "FAA was interested in the exercise from the last question but now wants to determine the largest delta between days for each `Aircraft: Type`. What are the days that had largest positive change in strikes for each `Aircraft: Type`? In order to answer this question, you will need to perform the exercise from Question 4, but this time include a grouping by `Aircraft: Type`. After grouping by `Aircraft: Type`, add a column called `ranking` and use a window function to determine the day with the largest increase in strikes from the previous day. Name the resulting data frame `greatest_strike_increase_type`\n",
        "\n",
        "NOTE: Helicopters are not struck with a high frequency and will not show up in your analysis; this is fine."
      ]
    },
    {
      "cell_type": "code",
      "execution_count": 10,
      "metadata": {
        "colab": {
          "base_uri": "https://localhost:8080/",
          "height": 286
        },
        "id": "MJAzP79x-EDK",
        "outputId": "190a29dc-817f-4b8a-ceed-52fbc0106b93"
      },
      "outputs": [
        {
          "output_type": "execute_result",
          "data": {
            "text/plain": [
              "shape: (6, 5)\n",
              "┌────────────────┬────────────┬───────────────┬──────────────┬───────────────┐\n",
              "│ Aircraft: Type ┆ date       ┆ daily_strikes ┆ previous_day ┆ delta_strikes │\n",
              "│ ---            ┆ ---        ┆ ---           ┆ ---          ┆ ---           │\n",
              "│ str            ┆ date       ┆ i64           ┆ i64          ┆ i64           │\n",
              "╞════════════════╪════════════╪═══════════════╪══════════════╪═══════════════╡\n",
              "│ Airplane       ┆ 2014-08-25 ┆ 25            ┆ 8            ┆ 17            │\n",
              "│ Helicopter     ┆ 2010-07-21 ┆ 2             ┆ 1            ┆ 1             │\n",
              "│ Helicopter     ┆ 2012-11-02 ┆ 2             ┆ 1            ┆ 1             │\n",
              "│ Helicopter     ┆ 2013-10-28 ┆ 2             ┆ 1            ┆ 1             │\n",
              "│ Helicopter     ┆ 2014-08-14 ┆ 2             ┆ 1            ┆ 1             │\n",
              "│ NA             ┆ 2014-08-04 ┆ 5             ┆ 1            ┆ 4             │\n",
              "└────────────────┴────────────┴───────────────┴──────────────┴───────────────┘"
            ],
            "text/html": [
              "<div><style>\n",
              ".dataframe > thead > tr,\n",
              ".dataframe > tbody > tr {\n",
              "  text-align: right;\n",
              "  white-space: pre-wrap;\n",
              "}\n",
              "</style>\n",
              "<small>shape: (6, 5)</small><table border=\"1\" class=\"dataframe\"><thead><tr><th>Aircraft: Type</th><th>date</th><th>daily_strikes</th><th>previous_day</th><th>delta_strikes</th></tr><tr><td>str</td><td>date</td><td>i64</td><td>i64</td><td>i64</td></tr></thead><tbody><tr><td>&quot;Airplane&quot;</td><td>2014-08-25</td><td>25</td><td>8</td><td>17</td></tr><tr><td>&quot;Helicopter&quot;</td><td>2010-07-21</td><td>2</td><td>1</td><td>1</td></tr><tr><td>&quot;Helicopter&quot;</td><td>2012-11-02</td><td>2</td><td>1</td><td>1</td></tr><tr><td>&quot;Helicopter&quot;</td><td>2013-10-28</td><td>2</td><td>1</td><td>1</td></tr><tr><td>&quot;Helicopter&quot;</td><td>2014-08-14</td><td>2</td><td>1</td><td>1</td></tr><tr><td>&quot;NA&quot;</td><td>2014-08-04</td><td>5</td><td>1</td><td>4</td></tr></tbody></table></div>"
            ]
          },
          "metadata": {},
          "execution_count": 10
        }
      ],
      "source": [
        "# Your code here\n",
        "greatest_strike_increase_type = (\n",
        "    strikes\n",
        "    .with_columns(pl.col(\"Collision Date and Time\").dt.date().alias(\"date\"))\n",
        "    .group_by([\"Aircraft: Type\", \"date\"])\n",
        "    .agg(pl.col(\"Number of Strikes\").sum().alias(\"daily_strikes\"))\n",
        "    .sort([\"Aircraft: Type\", \"date\"])\n",
        "    .with_columns(\n",
        "        pl.col(\"daily_strikes\").shift(1).over(\"Aircraft: Type\").alias(\"previous_day\")\n",
        "    )\n",
        "    .with_columns((pl.col(\"daily_strikes\") - pl.col(\"previous_day\")).alias(\"delta_strikes\"))\n",
        "    .filter(pl.col(\"delta_strikes\") > 0)\n",
        "    .with_columns(\n",
        "        pl.col(\"delta_strikes\").rank(method=\"dense\", descending=True)\n",
        "        .over(\"Aircraft: Type\").alias(\"ranking\")\n",
        "    )\n",
        "    .filter(pl.col(\"ranking\") == 1)\n",
        "    .select([\"Aircraft: Type\", \"date\", \"daily_strikes\", \"previous_day\", \"delta_strikes\"])\n",
        "    .sort([\"Aircraft: Type\", \"date\"])\n",
        ")\n",
        "\n",
        "greatest_strike_increase_type"
      ]
    }
  ],
  "metadata": {
    "kernelspec": {
      "display_name": "Python 3",
      "language": "python",
      "name": "python3"
    },
    "language_info": {
      "codemirror_mode": {
        "name": "ipython",
        "version": 3
      },
      "file_extension": ".py",
      "mimetype": "text/x-python",
      "name": "python",
      "nbconvert_exporter": "python",
      "pygments_lexer": "ipython3",
      "version": "3.8.0"
    },
    "colab": {
      "provenance": []
    }
  },
  "nbformat": 4,
  "nbformat_minor": 0
}